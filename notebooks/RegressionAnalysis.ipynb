{
 "cells": [
  {
   "cell_type": "code",
   "execution_count": 66,
   "id": "726a450b-e19e-40ed-91f0-2c49f3318cb1",
   "metadata": {},
   "outputs": [
    {
     "name": "stdout",
     "output_type": "stream",
     "text": [
      "     actual_views  predicted_views  trending\n",
      "0           17340     1.691190e+05     False\n",
      "1          299283     3.279176e+05     False\n",
      "2          253117     5.174189e+05     False\n",
      "3          426653     3.005684e+05      True\n",
      "4          173360     2.267277e+05     False\n",
      "..            ...              ...       ...\n",
      "295         55016     1.455757e+05     False\n",
      "296         78721     2.098104e+05     False\n",
      "297         68714     1.632353e+05     False\n",
      "298       1414923     1.122465e+06      True\n",
      "299        208573     2.581388e+05     False\n",
      "\n",
      "[300 rows x 3 columns]\n"
     ]
    }
   ],
   "source": [
    "import pandas as pd\n",
    "from sklearn.model_selection import train_test_split\n",
    "from sklearn.linear_model import LinearRegression\n",
    "\n",
    "# Load CSV\n",
    "df = pd.read_csv(\"../Data/dataset2/CAvideos.csv\", quoting=3, on_bad_lines='skip')\n",
    "\n",
    "# Drop rows with missing values in relevant columns\n",
    "df = df.dropna(subset=['category_id', 'publish_time', 'tags', 'likes', 'dislikes', 'comment_count', 'description', 'views'])\n",
    "\n",
    "# Feature engineering\n",
    "df['publish_time'] = pd.to_datetime(df['publish_time'], errors='coerce')\n",
    "df = df.dropna(subset=['publish_time'])  # drop rows where conversion failed\n",
    "df['publish_hour'] = df['publish_time'].dt.hour\n",
    "df['publish_weekday'] = df['publish_time'].dt.weekday\n",
    "df['num_tags'] = df['tags'].apply(lambda x: len(str(x).split('|')))\n",
    "df['description_len'] = df['description'].apply(lambda x: len(str(x)))\n",
    "\n",
    "# Ensure views, likes, dislikes, comment_count are numeric\n",
    "df['views'] = pd.to_numeric(df['views'], errors='coerce')\n",
    "df['likes'] = pd.to_numeric(df['likes'], errors='coerce')\n",
    "df['dislikes'] = pd.to_numeric(df['dislikes'], errors='coerce')\n",
    "df['comment_count'] = pd.to_numeric(df['comment_count'], errors='coerce')\n",
    "\n",
    "# Drop any rows where conversion to numeric failed\n",
    "df = df.dropna(subset=['views', 'likes', 'dislikes', 'comment_count'])\n",
    "\n",
    "# Select features and target\n",
    "features = ['category_id', 'publish_hour', 'publish_weekday', 'num_tags',\n",
    "            'likes', 'dislikes', 'comment_count', 'description_len']\n",
    "X = df[features]\n",
    "y = df['views']\n",
    "\n",
    "# Split dataset\n",
    "X_train, X_test, y_train, y_test = train_test_split(X, y, test_size=0.2, random_state=42)\n",
    "\n",
    "# Train regression model\n",
    "reg = LinearRegression()\n",
    "reg.fit(X_train, y_train)\n",
    "\n",
    "# Predict views\n",
    "y_pred = reg.predict(X_test)\n",
    "\n",
    "# Create results DataFrame\n",
    "result = X_test.copy()\n",
    "result['actual_views'] = pd.to_numeric(y_test, errors='coerce')  # ensure numeric\n",
    "result['predicted_views'] = y_pred\n",
    "\n",
    "# Add trending column: True if actual views > predicted views\n",
    "result['trending'] = result['actual_views'] > result['predicted_views']\n",
    "\n",
    "# Show results\n",
    "top_results = result[['actual_views', 'predicted_views', 'trending']].head(300).reset_index(drop=True)\n",
    "print(top_results)\n",
    "\n"
   ]
  },
  {
   "cell_type": "code",
   "execution_count": null,
   "id": "568bdead-72ba-4a52-9af6-ebac50ab990b",
   "metadata": {},
   "outputs": [],
   "source": []
  }
 ],
 "metadata": {
  "kernelspec": {
   "display_name": "Python 3 (ipykernel)",
   "language": "python",
   "name": "python3"
  },
  "language_info": {
   "codemirror_mode": {
    "name": "ipython",
    "version": 3
   },
   "file_extension": ".py",
   "mimetype": "text/x-python",
   "name": "python",
   "nbconvert_exporter": "python",
   "pygments_lexer": "ipython3",
   "version": "3.13.7"
  }
 },
 "nbformat": 4,
 "nbformat_minor": 5
}
